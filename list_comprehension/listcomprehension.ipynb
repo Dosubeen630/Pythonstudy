{
 "cells": [
  {
   "cell_type": "code",
   "execution_count": 2,
   "id": "23d8a1d0-ecc7-457a-ba91-100ba2972871",
   "metadata": {},
   "outputs": [
    {
     "data": {
      "text/plain": [
       "['The', 'quick', 'brown', 'fox', 'jumps', 'over', 'the', 'lazy', 'dog']"
      ]
     },
     "execution_count": 2,
     "metadata": {},
     "output_type": "execute_result"
    }
   ],
   "source": [
    "words = 'The quick brown fox jumps over the lazy dog'.split()\n",
    "words"
   ]
  },
  {
   "cell_type": "code",
   "execution_count": 3,
   "id": "9c5a0345-5e6f-405f-8ef7-c77f8619ed9c",
   "metadata": {},
   "outputs": [
    {
     "data": {
      "text/plain": [
       "[['THE', 'the', 3],\n",
       " ['QUICK', 'quick', 5],\n",
       " ['BROWN', 'brown', 5],\n",
       " ['FOX', 'fox', 3],\n",
       " ['JUMPS', 'jumps', 5],\n",
       " ['OVER', 'over', 4],\n",
       " ['THE', 'the', 3],\n",
       " ['LAZY', 'lazy', 4],\n",
       " ['DOG', 'dog', 3]]"
      ]
     },
     "execution_count": 3,
     "metadata": {},
     "output_type": "execute_result"
    }
   ],
   "source": [
    "[ [w.upper(), w.lower(), len(w) ] for w in words]"
   ]
  },
  {
   "cell_type": "code",
   "execution_count": 4,
   "id": "a7b6b165-a32f-4aa5-9176-8f4bf2ca681c",
   "metadata": {},
   "outputs": [
    {
     "name": "stdout",
     "output_type": "stream",
     "text": [
      "0 |t A\n",
      "1 |t B\n",
      "2 |t C\n"
     ]
    }
   ],
   "source": [
    "for i , v in enumerate(\"ABC\"):\n",
    "    print(\"{0} |t {1}\". format(i,v))"
   ]
  },
  {
   "cell_type": "code",
   "execution_count": 5,
   "id": "7ab5fe6c-3d29-43c4-9df3-d1c6a4261293",
   "metadata": {},
   "outputs": [
    {
     "data": {
      "text/plain": [
       "{'A': 0, 'B': 1, 'C': 2, 'D': 3}"
      ]
     },
     "execution_count": 5,
     "metadata": {},
     "output_type": "execute_result"
    }
   ],
   "source": [
    "my_str = \"ABCD\"\n",
    "{v : i for i, v in enumerate(my_str)}"
   ]
  },
  {
   "cell_type": "code",
   "execution_count": 14,
   "id": "c52e5856-9e89-4367-a6ab-730fed3a3ffc",
   "metadata": {},
   "outputs": [],
   "source": [
    "text = \"Samsung Group is a South Korean multinational conglomerate headqutered in Samsung Town Seoul.\"\n",
    "set_text = list(set(text.split())) #중복은 없애고 싶으면 set 사용\n"
   ]
  },
  {
   "cell_type": "code",
   "execution_count": 13,
   "id": "c8a886ba-40e4-4101-bbc8-51c29bba6db7",
   "metadata": {},
   "outputs": [
    {
     "data": {
      "text/plain": [
       "{0: 'is',\n",
       " 1: 'town',\n",
       " 2: 'a',\n",
       " 3: 'conglomerate',\n",
       " 4: 'headqutered',\n",
       " 5: 'multinational',\n",
       " 6: 'korean',\n",
       " 7: 'seoul.',\n",
       " 8: 'in',\n",
       " 9: 'south',\n",
       " 10: 'samsung',\n",
       " 11: 'group'}"
      ]
     },
     "execution_count": 13,
     "metadata": {},
     "output_type": "execute_result"
    }
   ],
   "source": [
    "text = \"Samsung Group is a South Korean multinational conglomerate headqutered in Samsung Town Seoul.\"\n",
    "set_text = list(set(text.split())) #중복은 없애고 싶으면 set 사용\n",
    "{i : v.lower() for i, v in enumerate(set_text)}"
   ]
  },
  {
   "cell_type": "code",
   "execution_count": 15,
   "id": "c3e8720a-2785-4932-aa82-fbd2e9bc6afa",
   "metadata": {},
   "outputs": [
    {
     "data": {
      "text/plain": [
       "{'is': 0,\n",
       " 'town': 1,\n",
       " 'a': 2,\n",
       " 'conglomerate': 3,\n",
       " 'headqutered': 4,\n",
       " 'multinational': 5,\n",
       " 'korean': 6,\n",
       " 'seoul.': 7,\n",
       " 'in': 8,\n",
       " 'south': 9,\n",
       " 'samsung': 10,\n",
       " 'group': 11}"
      ]
     },
     "execution_count": 15,
     "metadata": {},
     "output_type": "execute_result"
    }
   ],
   "source": [
    "{v.lower() : i for i, v in enumerate(set_text)}"
   ]
  },
  {
   "cell_type": "code",
   "execution_count": 17,
   "id": "d2b6a8ec-ea98-4fda-b63b-eab9bbc12d98",
   "metadata": {},
   "outputs": [
    {
     "data": {
      "text/plain": [
       "5"
      ]
     },
     "execution_count": 17,
     "metadata": {},
     "output_type": "execute_result"
    }
   ],
   "source": [
    "#Lambda\n",
    "def f(x, y):\n",
    "    return x+y\n",
    "\n",
    "f(1,4)"
   ]
  },
  {
   "cell_type": "code",
   "execution_count": 18,
   "id": "83d871e9-9aaf-4d57-a4e5-a44c01eb064f",
   "metadata": {},
   "outputs": [
    {
     "data": {
      "text/plain": [
       "60"
      ]
     },
     "execution_count": 18,
     "metadata": {},
     "output_type": "execute_result"
    }
   ],
   "source": [
    "(lambda x, y : x+ y) (10,50)"
   ]
  },
  {
   "cell_type": "code",
   "execution_count": 21,
   "id": "384f33cb-3a82-4d4e-9aae-5ffc957c9c6f",
   "metadata": {},
   "outputs": [
    {
     "data": {
      "text/plain": [
       "60"
      ]
     },
     "execution_count": 21,
     "metadata": {},
     "output_type": "execute_result"
    }
   ],
   "source": [
    "(lambda x,y: x+y) (10,50)"
   ]
  },
  {
   "cell_type": "code",
   "execution_count": 19,
   "id": "b3e6f8e8-c8e1-49d7-a502-2ea0da2c5eec",
   "metadata": {},
   "outputs": [],
   "source": [
    "up_low = lambda x : x.upper() + x.lower()"
   ]
  },
  {
   "cell_type": "code",
   "execution_count": 23,
   "id": "76a35daf-f1fa-4418-880f-0c263b80887b",
   "metadata": {},
   "outputs": [],
   "source": [
    "up_low = lambda x : \"-\".join(x.split())"
   ]
  },
  {
   "cell_type": "code",
   "execution_count": 20,
   "id": "4dbea798-8a4e-452d-bcf1-6f01dd32cf17",
   "metadata": {},
   "outputs": [
    {
     "data": {
      "text/plain": [
       "'MY HAPPYmy happy'"
      ]
     },
     "execution_count": 20,
     "metadata": {},
     "output_type": "execute_result"
    }
   ],
   "source": [
    "up_low(\"My Happy\")"
   ]
  },
  {
   "cell_type": "code",
   "execution_count": 24,
   "id": "f97ac204-5d97-45f4-a24c-b170c69544c8",
   "metadata": {},
   "outputs": [
    {
     "data": {
      "text/plain": [
       "[1, 4, 9, 16, 25]"
      ]
     },
     "execution_count": 24,
     "metadata": {},
     "output_type": "execute_result"
    }
   ],
   "source": [
    "#map\n",
    "ex = [1,2,3,4,5]\n",
    "f = lambda x : x ** 2\n",
    "\n",
    "list(map(f,ex))"
   ]
  },
  {
   "cell_type": "code",
   "execution_count": 25,
   "id": "1751c435-da68-488b-8c5b-a3bb4a99a0da",
   "metadata": {},
   "outputs": [
    {
     "data": {
      "text/plain": [
       "[2, 4, 6, 8, 10]"
      ]
     },
     "execution_count": 25,
     "metadata": {},
     "output_type": "execute_result"
    }
   ],
   "source": [
    "f = lambda x,y : x+y\n",
    "list(map(f,ex,ex))"
   ]
  },
  {
   "cell_type": "code",
   "execution_count": null,
   "id": "0c471200-fa03-48c3-85f7-c42c7e86c540",
   "metadata": {},
   "outputs": [],
   "source": [
    "def f(ex)\n",
    "    return ex + 5\n"
   ]
  },
  {
   "cell_type": "code",
   "execution_count": null,
   "id": "8a86bba4-751b-46d4-8dd5-d866a1c1c3ce",
   "metadata": {},
   "outputs": [],
   "source": [
    "[f(value) for value in ex]"
   ]
  }
 ],
 "metadata": {
  "kernelspec": {
   "display_name": "Python 3 (ipykernel)",
   "language": "python",
   "name": "python3"
  },
  "language_info": {
   "codemirror_mode": {
    "name": "ipython",
    "version": 3
   },
   "file_extension": ".py",
   "mimetype": "text/x-python",
   "name": "python",
   "nbconvert_exporter": "python",
   "pygments_lexer": "ipython3",
   "version": "3.11.4"
  }
 },
 "nbformat": 4,
 "nbformat_minor": 5
}
