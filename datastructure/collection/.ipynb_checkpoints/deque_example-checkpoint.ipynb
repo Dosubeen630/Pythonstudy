{
 "cells": [
  {
   "cell_type": "code",
   "execution_count": 12,
   "id": "fec83a71-3dce-4134-9c5e-11711955e05c",
   "metadata": {},
   "outputs": [],
   "source": [
    "from collections import deque"
   ]
  },
  {
   "cell_type": "code",
   "execution_count": 13,
   "id": "88308bae-7218-4b07-aad2-461dc065170c",
   "metadata": {},
   "outputs": [
    {
     "data": {
      "text/plain": [
       "deque([10, 0, 1, 2, 3, 4])"
      ]
     },
     "execution_count": 13,
     "metadata": {},
     "output_type": "execute_result"
    }
   ],
   "source": [
    "deque_list = deque()\n",
    "for i in range(5):\n",
    "    deque_list.append(i)\n",
    "deque_list.appendleft(10)\n",
    "deque_list"
   ]
  },
  {
   "cell_type": "code",
   "execution_count": 14,
   "id": "f99334a3-0218-48a2-8309-358978c7baf3",
   "metadata": {},
   "outputs": [
    {
     "data": {
      "text/plain": [
       "deque([10, 0, 1, 2, 3, 4, 100])"
      ]
     },
     "execution_count": 14,
     "metadata": {},
     "output_type": "execute_result"
    }
   ],
   "source": [
    "deque_list.append(100)\n",
    "deque_list"
   ]
  },
  {
   "cell_type": "code",
   "execution_count": 15,
   "id": "ac539aa2-062b-493a-a4aa-ac6d92f2bd2a",
   "metadata": {},
   "outputs": [
    {
     "data": {
      "text/plain": [
       "deque([200, 10, 0, 1, 2, 3, 4, 100])"
      ]
     },
     "execution_count": 15,
     "metadata": {},
     "output_type": "execute_result"
    }
   ],
   "source": [
    "deque_list.appendleft(200)\n",
    "deque_list"
   ]
  },
  {
   "cell_type": "code",
   "execution_count": 16,
   "id": "c6afd646-79b3-4713-85b6-4d333e65153f",
   "metadata": {},
   "outputs": [
    {
     "data": {
      "text/plain": [
       "deque([100, 200, 10, 0, 1, 2, 3, 4])"
      ]
     },
     "execution_count": 16,
     "metadata": {},
     "output_type": "execute_result"
    }
   ],
   "source": [
    "deque_list.rotate(1)\n",
    "deque_list"
   ]
  },
  {
   "cell_type": "code",
   "execution_count": 21,
   "id": "8009a695-ec81-41a8-b499-961b52554e53",
   "metadata": {},
   "outputs": [
    {
     "data": {
      "text/plain": [
       "deque([7,\n",
       "       6,\n",
       "       5,\n",
       "       7,\n",
       "       6,\n",
       "       5,\n",
       "       7,\n",
       "       6,\n",
       "       5,\n",
       "       7,\n",
       "       6,\n",
       "       5,\n",
       "       100,\n",
       "       200,\n",
       "       10,\n",
       "       0,\n",
       "       1,\n",
       "       2,\n",
       "       3,\n",
       "       4,\n",
       "       5,\n",
       "       6,\n",
       "       7,\n",
       "       5,\n",
       "       6,\n",
       "       7,\n",
       "       5,\n",
       "       6,\n",
       "       7,\n",
       "       5,\n",
       "       6,\n",
       "       7,\n",
       "       5,\n",
       "       6,\n",
       "       7])"
      ]
     },
     "execution_count": 21,
     "metadata": {},
     "output_type": "execute_result"
    }
   ],
   "source": [
    "deque_list.extend([5,6,7])\n",
    "deque_list"
   ]
  },
  {
   "cell_type": "code",
   "execution_count": 22,
   "id": "605cb54d-b05e-4236-b94b-b45c5fd50332",
   "metadata": {},
   "outputs": [
    {
     "data": {
      "text/plain": [
       "deque([7,\n",
       "       6,\n",
       "       5,\n",
       "       7,\n",
       "       6,\n",
       "       5,\n",
       "       7,\n",
       "       6,\n",
       "       5,\n",
       "       7,\n",
       "       6,\n",
       "       5,\n",
       "       7,\n",
       "       6,\n",
       "       5,\n",
       "       100,\n",
       "       200,\n",
       "       10,\n",
       "       0,\n",
       "       1,\n",
       "       2,\n",
       "       3,\n",
       "       4,\n",
       "       5,\n",
       "       6,\n",
       "       7,\n",
       "       5,\n",
       "       6,\n",
       "       7,\n",
       "       5,\n",
       "       6,\n",
       "       7,\n",
       "       5,\n",
       "       6,\n",
       "       7,\n",
       "       5,\n",
       "       6,\n",
       "       7])"
      ]
     },
     "execution_count": 22,
     "metadata": {},
     "output_type": "execute_result"
    }
   ],
   "source": [
    "deque_list.extendleft([5,6,7])\n",
    "deque_list"
   ]
  },
  {
   "cell_type": "code",
   "execution_count": 24,
   "id": "70df7f45-5be0-4e46-ba71-12ba0ccc39bc",
   "metadata": {},
   "outputs": [
    {
     "name": "stdout",
     "output_type": "stream",
     "text": [
      "649 µs ± 192 ns per loop (mean ± std. dev. of 7 runs, 1,000 loops each)\n"
     ]
    }
   ],
   "source": [
    "def general_list():\n",
    "    just_list = []\n",
    "    for i in range(100):\n",
    "        for i in range(100):\n",
    "            just_list.append(i)\n",
    "            just_list.pop()\n",
    "\n",
    "%timeit general_list()"
   ]
  },
  {
   "cell_type": "code",
   "execution_count": 25,
   "id": "3220832a-4173-4cdb-9104-01e982c688cb",
   "metadata": {},
   "outputs": [
    {
     "name": "stdout",
     "output_type": "stream",
     "text": [
      "203 µs ± 175 ns per loop (mean ± std. dev. of 7 runs, 1,000 loops each)\n"
     ]
    }
   ],
   "source": [
    "def deque_list():\n",
    "    deque_list = deque()\n",
    "\n",
    "    for i in range(100):\n",
    "        for i in range(100):\n",
    "            deque_list.append(i)\n",
    "            deque_list.pop()\n",
    "\n",
    "%timeit deque_list()"
   ]
  },
  {
   "cell_type": "code",
   "execution_count": null,
   "id": "975eed27-e13d-4e73-a150-6202649a289f",
   "metadata": {},
   "outputs": [],
   "source": []
  }
 ],
 "metadata": {
  "kernelspec": {
   "display_name": "Python 3 (ipykernel)",
   "language": "python",
   "name": "python3"
  },
  "language_info": {
   "codemirror_mode": {
    "name": "ipython",
    "version": 3
   },
   "file_extension": ".py",
   "mimetype": "text/x-python",
   "name": "python",
   "nbconvert_exporter": "python",
   "pygments_lexer": "ipython3",
   "version": "3.11.4"
  }
 },
 "nbformat": 4,
 "nbformat_minor": 5
}
