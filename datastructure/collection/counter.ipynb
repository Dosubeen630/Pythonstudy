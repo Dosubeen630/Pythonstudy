{
 "cells": [
  {
   "cell_type": "code",
   "execution_count": 1,
   "id": "30d79853-bbf0-4088-8da2-2f824882cd6a",
   "metadata": {},
   "outputs": [],
   "source": [
    "from collections import Counter\n"
   ]
  },
  {
   "cell_type": "code",
   "execution_count": 2,
   "id": "3233dd80-2379-4b49-9694-6f93c20359e9",
   "metadata": {},
   "outputs": [],
   "source": [
    "ball_or_strike_list = [\"B\",\"S\",\"S\",\"S\",\"S\",\"B\",\"B\"]"
   ]
  },
  {
   "cell_type": "code",
   "execution_count": 3,
   "id": "fa689043-4405-4498-836f-601477811b55",
   "metadata": {},
   "outputs": [
    {
     "data": {
      "text/plain": [
       "Counter({'S': 4, 'B': 3})"
      ]
     },
     "execution_count": 3,
     "metadata": {},
     "output_type": "execute_result"
    }
   ],
   "source": [
    "c = Counter(ball_or_strike_list)\n",
    "c"
   ]
  },
  {
   "cell_type": "code",
   "execution_count": 5,
   "id": "0ef95b82-7059-488f-8cd5-af3c47bc6992",
   "metadata": {},
   "outputs": [
    {
     "name": "stdout",
     "output_type": "stream",
     "text": [
      "['red', 'red', 'red', 'red', 'blue', 'blue']\n"
     ]
    }
   ],
   "source": [
    "c = Counter({'red': 4, 'blue':2})\n",
    "print(list(c.elements()))"
   ]
  },
  {
   "cell_type": "code",
   "execution_count": 7,
   "id": "4db3593f-b58f-47ee-a9c4-32e15991408c",
   "metadata": {},
   "outputs": [
    {
     "name": "stdout",
     "output_type": "stream",
     "text": [
      "['cats', 'cats', 'cats', 'cats', 'dogs', 'dogs', 'dogs', 'dogs', 'dogs', 'dogs', 'dogs', 'dogs']\n"
     ]
    }
   ],
   "source": [
    "c = Counter(cats=4, dogs=8)\n",
    "print(list(c.elements()))"
   ]
  },
  {
   "cell_type": "code",
   "execution_count": 8,
   "id": "33d6a034-726f-4f4d-b1e5-cc71e6bfdff0",
   "metadata": {},
   "outputs": [
    {
     "name": "stdout",
     "output_type": "stream",
     "text": [
      "Counter({'a': 3, 'b': 0, 'c': -3, 'd': -6})\n"
     ]
    }
   ],
   "source": [
    "c = Counter(a=4, b=2, c=0, d =-2)\n",
    "d = Counter(a=1, b=2, c=3, d =4)\n",
    "c.subtract(d)\n",
    "print(c)"
   ]
  },
  {
   "cell_type": "code",
   "execution_count": 10,
   "id": "f24227da-b95e-4698-b5c6-ac1449a9be8a",
   "metadata": {},
   "outputs": [
    {
     "name": "stdout",
     "output_type": "stream",
     "text": [
      "Counter({'and': 3, 'to': 3, 'a': 2, 'press': 2, 'release': 2, 'can': 2, 'you': 2, 'is': 1, 'the': 1, 'quickest': 1, 'easiest': 1, 'way': 1, 'get': 1, 'free': 1, 'publicity.': 1, 'if': 1, 'well': 1, 'written,': 1, 'result': 1, 'in': 1, 'multiple': 1, 'published': 1, 'articles': 1, 'about': 1, 'your': 1, 'firm': 1, 'its': 1, 'products.': 1, 'that': 1, 'mean': 1, 'new': 1, 'prospects': 1, 'contacting': 1, 'asking': 1, 'sell': 1, 'them.': 1, '….': 1})\n",
      "2\n"
     ]
    }
   ],
   "source": [
    "text = \"\"\"A press release is the quickest and easiest way to get free publicity. If\n",
    "well written, a press release can result in multiple published articles about your\n",
    "firm and its products. And that can mean new prospects contacting you asking you to\n",
    "sell to them. ….\"\"\".lower().split()\n",
    "print(Counter(text))\n",
    "sorted(Counter(text).items(), key=lambda t : t[1], reverse=True)\n",
    "print(Counter(text)[\"a\"])"
   ]
  },
  {
   "cell_type": "code",
   "execution_count": null,
   "id": "a7a402bc-7ad1-4f8e-9f57-ab43cb6714e8",
   "metadata": {},
   "outputs": [],
   "source": []
  }
 ],
 "metadata": {
  "kernelspec": {
   "display_name": "Python 3 (ipykernel)",
   "language": "python",
   "name": "python3"
  },
  "language_info": {
   "codemirror_mode": {
    "name": "ipython",
    "version": 3
   },
   "file_extension": ".py",
   "mimetype": "text/x-python",
   "name": "python",
   "nbconvert_exporter": "python",
   "pygments_lexer": "ipython3",
   "version": "3.11.4"
  }
 },
 "nbformat": 4,
 "nbformat_minor": 5
}
