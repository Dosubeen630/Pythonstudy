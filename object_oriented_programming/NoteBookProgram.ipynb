{
 "cells": [
  {
   "cell_type": "code",
   "execution_count": null,
   "id": "0584fca8-4a5e-4343-ac81-4430415b1405",
   "metadata": {},
   "outputs": [],
   "source": [
    "class Notebook(obj):\n",
    "    def __init__(self,add,remove,pages):\n",
    "        self.add = add\n",
    "        self.remove = remove\n",
    "        self.pages = pages\n",
    "\n",
    "    def add_note(self, add_note_pages):\n",
    "        print(\"노트를 추가하겠습니다. : from %d to %d\" %(self.add_note, add_note_pages))\n",
    "        self.add_note = add_note_pages\n",
    "\n",
    "    def remove_note(self, remove_note_pages):\n",
    "        print(\"노트를 삭제하겠습니다. : from %d to %d\" %(self.remove_note, remove_note_pages))\n",
    "        self.remove_note = remove_note_pages\n",
    "\n",
    "    def pages(self, ):\n",
    "        "
   ]
  }
 ],
 "metadata": {
  "kernelspec": {
   "display_name": "Python 3 (ipykernel)",
   "language": "python",
   "name": "python3"
  },
  "language_info": {
   "codemirror_mode": {
    "name": "ipython",
    "version": 3
   },
   "file_extension": ".py",
   "mimetype": "text/x-python",
   "name": "python",
   "nbconvert_exporter": "python",
   "pygments_lexer": "ipython3",
   "version": "3.11.4"
  }
 },
 "nbformat": 4,
 "nbformat_minor": 5
}
