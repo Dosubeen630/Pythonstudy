{
 "cells": [
  {
   "cell_type": "code",
   "execution_count": 17,
   "id": "307621a5-9335-4516-923b-46d1d6a83135",
   "metadata": {},
   "outputs": [],
   "source": [
    "class SoccerPlayer(object):\n",
    "    def __init__(self, name:str, position:str, back_number:int):\n",
    "        self.name = name\n",
    "        self.position = position\n",
    "        self.back_number = back_number\n",
    "\n",
    "      \n",
    "    def __str__(self):\n",
    "        return \"Hello. My name is %s. My back number is %d\" % \\\n",
    "                (self.name, self.back_number)\n",
    "\n",
    "    def __add__(self, other):\n",
    "        return self.name + other.name"
   ]
  },
  {
   "cell_type": "code",
   "execution_count": 19,
   "id": "552ccaf5-8af7-4551-b612-2e2faf2d7bcf",
   "metadata": {},
   "outputs": [],
   "source": [
    "abc = SoccerPlayer(\"son\",\"FW\",7)\n",
    "park = SoccerPlayer(\"park\",\"WF\", 13)"
   ]
  },
  {
   "cell_type": "code",
   "execution_count": 20,
   "id": "109d19c8-2442-4f42-aaeb-14b1bd114828",
   "metadata": {},
   "outputs": [
    {
     "data": {
      "text/plain": [
       "'sonpark'"
      ]
     },
     "execution_count": 20,
     "metadata": {},
     "output_type": "execute_result"
    }
   ],
   "source": [
    "abc+park"
   ]
  },
  {
   "cell_type": "code",
   "execution_count": 16,
   "id": "900ff636-4641-46cb-9ad1-f99bf8be78b7",
   "metadata": {},
   "outputs": [
    {
     "name": "stdout",
     "output_type": "stream",
     "text": [
      "<__main__.SoccerPlayer object at 0x1060984d0>\n"
     ]
    }
   ],
   "source": [
    "print(abc)"
   ]
  },
  {
   "cell_type": "code",
   "execution_count": 11,
   "id": "ea67c071-0f6d-4fa8-b341-6c0d3a910201",
   "metadata": {},
   "outputs": [
    {
     "data": {
      "text/plain": [
       "False"
      ]
     },
     "execution_count": 11,
     "metadata": {},
     "output_type": "execute_result"
    }
   ],
   "source": [
    "abc is park"
   ]
  },
  {
   "cell_type": "code",
   "execution_count": 5,
   "id": "9d9d91e3-0a24-48a3-9844-bc3e303d1e2f",
   "metadata": {},
   "outputs": [
    {
     "data": {
      "text/plain": [
       "(<__main__.SoccerPlayer at 0x105fc4110>,\n",
       " <__main__.SoccerPlayer at 0x105ff6090>,\n",
       " <__main__.SoccerPlayer at 0x105ff77d0>)"
      ]
     },
     "execution_count": 5,
     "metadata": {},
     "output_type": "execute_result"
    }
   ],
   "source": [
    "abc, ddd, eee"
   ]
  },
  {
   "cell_type": "code",
   "execution_count": 6,
   "id": "21bbd8f6-5e27-4f9f-856d-c7faf53279bf",
   "metadata": {},
   "outputs": [
    {
     "data": {
      "text/plain": [
       "False"
      ]
     },
     "execution_count": 6,
     "metadata": {},
     "output_type": "execute_result"
    }
   ],
   "source": [
    "abc is ddd"
   ]
  },
  {
   "cell_type": "code",
   "execution_count": 29,
   "id": "573934a4-ebcb-4c0f-8ad7-a86ee20ad4c8",
   "metadata": {},
   "outputs": [
    {
     "ename": "SyntaxError",
     "evalue": "invalid syntax (1840639948.py, line 8)",
     "output_type": "error",
     "traceback": [
      "\u001b[0;36m  Cell \u001b[0;32mIn[29], line 8\u001b[0;36m\u001b[0m\n\u001b[0;31m    print(\"선수의 등번호를 변경합니다 : from %d to %d\" % /\u001b[0m\n\u001b[0m                                             ^\u001b[0m\n\u001b[0;31mSyntaxError\u001b[0m\u001b[0;31m:\u001b[0m invalid syntax\n"
     ]
    }
   ],
   "source": [
    "class SoccerPlayer(object):\n",
    "    def __init__(self, name, position, back_number):\n",
    "        self.name = name\n",
    "        self.position = position\n",
    "        self.back_number = back_number\n",
    "\n",
    "    def change_back_number(self, new_number):\n",
    "        print(\"선수의 등번호를 변경합니다 : from %d to %d\" % / \n",
    "                  (self.back_number = new_number))\n",
    "        \n",
    "    def __str__(self):\n",
    "        return \"Hello. My name is %s. My back number is %d\" % /\n",
    "                (self.name, self.back_number)"
   ]
  },
  {
   "cell_type": "code",
   "execution_count": 21,
   "id": "f66a89c4-dded-441f-a99e-57ca32bed35a",
   "metadata": {},
   "outputs": [
    {
     "name": "stdout",
     "output_type": "stream",
     "text": [
      "Hello. My name is Jinhyun. My back number is 10\n"
     ]
    }
   ],
   "source": [
    "choi = SoccerPlayer(\"Jinhyun\", \"mf\", 10)\n",
    "print(choi)"
   ]
  },
  {
   "cell_type": "code",
   "execution_count": 27,
   "id": "9d77dd54-64a6-466c-abf0-b60f83c2ce23",
   "metadata": {},
   "outputs": [
    {
     "ename": "AttributeError",
     "evalue": "'SoccerPlayer' object has no attribute 'change_back_number'",
     "output_type": "error",
     "traceback": [
      "\u001b[0;31m---------------------------------------------------------------------------\u001b[0m",
      "\u001b[0;31mAttributeError\u001b[0m                            Traceback (most recent call last)",
      "Cell \u001b[0;32mIn[27], line 1\u001b[0m\n\u001b[0;32m----> 1\u001b[0m \u001b[43mchoi\u001b[49m\u001b[38;5;241;43m.\u001b[39;49m\u001b[43mchange_back_number\u001b[49m(\u001b[38;5;241m7\u001b[39m)\n\u001b[1;32m      2\u001b[0m \u001b[38;5;28mprint\u001b[39m(choi)\n",
      "\u001b[0;31mAttributeError\u001b[0m: 'SoccerPlayer' object has no attribute 'change_back_number'"
     ]
    }
   ],
   "source": [
    "choi.change_back_number(7)\n",
    "print(choi)"
   ]
  },
  {
   "cell_type": "code",
   "execution_count": null,
   "id": "6b2a3b46-9c06-48e1-bc9f-01945112bdfe",
   "metadata": {},
   "outputs": [],
   "source": []
  }
 ],
 "metadata": {
  "kernelspec": {
   "display_name": "Python 3 (ipykernel)",
   "language": "python",
   "name": "python3"
  },
  "language_info": {
   "codemirror_mode": {
    "name": "ipython",
    "version": 3
   },
   "file_extension": ".py",
   "mimetype": "text/x-python",
   "name": "python",
   "nbconvert_exporter": "python",
   "pygments_lexer": "ipython3",
   "version": "3.11.4"
  }
 },
 "nbformat": 4,
 "nbformat_minor": 5
}
